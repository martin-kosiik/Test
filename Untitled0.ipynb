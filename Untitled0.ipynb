{
  "nbformat": 4,
  "nbformat_minor": 0,
  "metadata": {
    "colab": {
      "name": "Untitled0.ipynb",
      "version": "0.3.2",
      "provenance": [],
      "toc_visible": true,
      "include_colab_link": true
    },
    "kernelspec": {
      "name": "python3",
      "display_name": "Python 3"
    }
  },
  "cells": [
    {
      "cell_type": "markdown",
      "metadata": {
        "id": "view-in-github",
        "colab_type": "text"
      },
      "source": [
        "<a href=\"https://colab.research.google.com/github/martin-kosiik/Test/blob/master/Untitled0.ipynb\" target=\"_parent\"><img src=\"https://colab.research.google.com/assets/colab-badge.svg\" alt=\"Open In Colab\"/></a>"
      ]
    },
    {
      "cell_type": "code",
      "metadata": {
        "id": "n1Fp2vYh7JgL",
        "colab_type": "code",
        "colab": {}
      },
      "source": [
        "import numpy as np"
      ],
      "execution_count": 0,
      "outputs": []
    },
    {
      "cell_type": "code",
      "metadata": {
        "id": "31rFiiJr7Wqr",
        "colab_type": "code",
        "colab": {}
      },
      "source": [
        "import keras"
      ],
      "execution_count": 0,
      "outputs": []
    },
    {
      "cell_type": "markdown",
      "metadata": {
        "id": "YgZCOu397YsM",
        "colab_type": "text"
      },
      "source": [
        "Interesting code \n",
        "### Important section"
      ]
    },
    {
      "cell_type": "code",
      "metadata": {
        "id": "qPXckMCF7nJZ",
        "colab_type": "code",
        "outputId": "b0007cf4-9455-4d27-fef4-c96309de4e2c",
        "colab": {
          "base_uri": "https://localhost:8080/",
          "height": 34
        }
      },
      "source": [
        "def function1(x, y):\n",
        "  return x + y\n",
        "\n",
        "function1(1, 2)"
      ],
      "execution_count": 0,
      "outputs": [
        {
          "output_type": "execute_result",
          "data": {
            "text/plain": [
              "3"
            ]
          },
          "metadata": {
            "tags": []
          },
          "execution_count": 3
        }
      ]
    },
    {
      "cell_type": "code",
      "metadata": {
        "id": "ZsRbbojgFlgJ",
        "colab_type": "code",
        "colab": {
          "base_uri": "https://localhost:8080/",
          "height": 50
        },
        "outputId": "45474f89-9589-4b83-a1d6-dc6e5375b0d4"
      },
      "source": [
        "from keras.datasets import mnist\n",
        "\n",
        "(x_train, y_train), (x_test, y_test) = mnist.load_data()\n"
      ],
      "execution_count": 5,
      "outputs": [
        {
          "output_type": "stream",
          "text": [
            "Downloading data from https://s3.amazonaws.com/img-datasets/mnist.npz\n",
            "11493376/11490434 [==============================] - 0s 0us/step\n"
          ],
          "name": "stdout"
        }
      ]
    },
    {
      "cell_type": "code",
      "metadata": {
        "id": "fcsHstqNFveT",
        "colab_type": "code",
        "colab": {
          "base_uri": "https://localhost:8080/",
          "height": 840
        },
        "outputId": "8986b759-b88a-4f64-e088-7787615f1b68"
      },
      "source": [
        ""
      ],
      "execution_count": 7,
      "outputs": [
        {
          "output_type": "execute_result",
          "data": {
            "text/plain": [
              "array([[[0, 0, 0, ..., 0, 0, 0],\n",
              "        [0, 0, 0, ..., 0, 0, 0],\n",
              "        [0, 0, 0, ..., 0, 0, 0],\n",
              "        ...,\n",
              "        [0, 0, 0, ..., 0, 0, 0],\n",
              "        [0, 0, 0, ..., 0, 0, 0],\n",
              "        [0, 0, 0, ..., 0, 0, 0]],\n",
              "\n",
              "       [[0, 0, 0, ..., 0, 0, 0],\n",
              "        [0, 0, 0, ..., 0, 0, 0],\n",
              "        [0, 0, 0, ..., 0, 0, 0],\n",
              "        ...,\n",
              "        [0, 0, 0, ..., 0, 0, 0],\n",
              "        [0, 0, 0, ..., 0, 0, 0],\n",
              "        [0, 0, 0, ..., 0, 0, 0]],\n",
              "\n",
              "       [[0, 0, 0, ..., 0, 0, 0],\n",
              "        [0, 0, 0, ..., 0, 0, 0],\n",
              "        [0, 0, 0, ..., 0, 0, 0],\n",
              "        ...,\n",
              "        [0, 0, 0, ..., 0, 0, 0],\n",
              "        [0, 0, 0, ..., 0, 0, 0],\n",
              "        [0, 0, 0, ..., 0, 0, 0]],\n",
              "\n",
              "       ...,\n",
              "\n",
              "       [[0, 0, 0, ..., 0, 0, 0],\n",
              "        [0, 0, 0, ..., 0, 0, 0],\n",
              "        [0, 0, 0, ..., 0, 0, 0],\n",
              "        ...,\n",
              "        [0, 0, 0, ..., 0, 0, 0],\n",
              "        [0, 0, 0, ..., 0, 0, 0],\n",
              "        [0, 0, 0, ..., 0, 0, 0]],\n",
              "\n",
              "       [[0, 0, 0, ..., 0, 0, 0],\n",
              "        [0, 0, 0, ..., 0, 0, 0],\n",
              "        [0, 0, 0, ..., 0, 0, 0],\n",
              "        ...,\n",
              "        [0, 0, 0, ..., 0, 0, 0],\n",
              "        [0, 0, 0, ..., 0, 0, 0],\n",
              "        [0, 0, 0, ..., 0, 0, 0]],\n",
              "\n",
              "       [[0, 0, 0, ..., 0, 0, 0],\n",
              "        [0, 0, 0, ..., 0, 0, 0],\n",
              "        [0, 0, 0, ..., 0, 0, 0],\n",
              "        ...,\n",
              "        [0, 0, 0, ..., 0, 0, 0],\n",
              "        [0, 0, 0, ..., 0, 0, 0],\n",
              "        [0, 0, 0, ..., 0, 0, 0]]], dtype=uint8)"
            ]
          },
          "metadata": {
            "tags": []
          },
          "execution_count": 7
        }
      ]
    },
    {
      "cell_type": "code",
      "metadata": {
        "id": "y1-9J114F82C",
        "colab_type": "code",
        "colab": {}
      },
      "source": [
        "from keras.models import Sequential\n",
        "\n",
        "model = Sequential()\n",
        "\n",
        "from keras.layers import Dense\n",
        "\n",
        "model.add(Dense(units=512, activation='relu', input_shape = (28 * 28, )))\n",
        "model.add(Dense(units=10, activation='softmax'))\n"
      ],
      "execution_count": 0,
      "outputs": []
    },
    {
      "cell_type": "code",
      "metadata": {
        "id": "yKEu2HgKHS0e",
        "colab_type": "code",
        "colab": {}
      },
      "source": [
        "from keras import models \n",
        "from keras import layers\n",
        "model = models.Sequential() \n",
        "model.add(layers.Dense(512, activation='relu', input_shape=(28 * 28,)))\n",
        "model.add(layers.Dense(10, activation='softmax'))\n"
      ],
      "execution_count": 0,
      "outputs": []
    },
    {
      "cell_type": "code",
      "metadata": {
        "id": "gQgFrWJ6GJXw",
        "colab_type": "code",
        "colab": {}
      },
      "source": [
        "model.compile(loss='categorical_crossentropy',\n",
        "              optimizer='sgd',\n",
        "              metrics=['accuracy'])\n"
      ],
      "execution_count": 0,
      "outputs": []
    },
    {
      "cell_type": "code",
      "metadata": {
        "id": "82WPIU7cHnSS",
        "colab_type": "code",
        "colab": {}
      },
      "source": [
        "x_train = x_train.reshape((60000, 28 * 28))\n",
        "x_train = x_train.astype('float32') / 255\n",
        "x_test = x_test.reshape((10000, 28 * 28))\n",
        "x_test = x_test.astype('float32') / 255\n"
      ],
      "execution_count": 0,
      "outputs": []
    },
    {
      "cell_type": "code",
      "metadata": {
        "id": "jolMupViIDSp",
        "colab_type": "code",
        "colab": {}
      },
      "source": [
        "from keras.utils import to_categorical\n",
        "y_train = to_categorical(y_train)\n",
        "y_test = to_categorical(y_test)\n"
      ],
      "execution_count": 0,
      "outputs": []
    },
    {
      "cell_type": "code",
      "metadata": {
        "id": "R2A3IbIxGUQu",
        "colab_type": "code",
        "colab": {
          "base_uri": "https://localhost:8080/",
          "height": 272
        },
        "outputId": "9b8f2351-2a2a-45a1-ce2f-1788061aa3ca"
      },
      "source": [
        "model.fit(x_train, y_train, epochs=5, batch_size=32)"
      ],
      "execution_count": 22,
      "outputs": [
        {
          "output_type": "stream",
          "text": [
            "WARNING:tensorflow:From /usr/local/lib/python3.6/dist-packages/tensorflow/python/ops/math_ops.py:3066: to_int32 (from tensorflow.python.ops.math_ops) is deprecated and will be removed in a future version.\n",
            "Instructions for updating:\n",
            "Use tf.cast instead.\n",
            "Epoch 1/5\n",
            "60000/60000 [==============================] - 9s 154us/step - loss: 0.6053 - acc: 0.8525\n",
            "Epoch 2/5\n",
            "60000/60000 [==============================] - 9s 143us/step - loss: 0.3215 - acc: 0.9104\n",
            "Epoch 3/5\n",
            "60000/60000 [==============================] - 9s 143us/step - loss: 0.2736 - acc: 0.9233\n",
            "Epoch 4/5\n",
            "60000/60000 [==============================] - 9s 142us/step - loss: 0.2429 - acc: 0.9322\n",
            "Epoch 5/5\n",
            "60000/60000 [==============================] - 9s 144us/step - loss: 0.2195 - acc: 0.9390\n"
          ],
          "name": "stdout"
        },
        {
          "output_type": "execute_result",
          "data": {
            "text/plain": [
              "<keras.callbacks.History at 0x7fcf01111a20>"
            ]
          },
          "metadata": {
            "tags": []
          },
          "execution_count": 22
        }
      ]
    },
    {
      "cell_type": "code",
      "metadata": {
        "id": "aPVytinwIct1",
        "colab_type": "code",
        "colab": {
          "base_uri": "https://localhost:8080/",
          "height": 50
        },
        "outputId": "5807a1f1-07a9-40af-eeac-962f43483f93"
      },
      "source": [
        "test_loss, test_acc = model.evaluate(x_test, y_test) \n",
        "test_loss\n",
        "test_acc"
      ],
      "execution_count": 24,
      "outputs": [
        {
          "output_type": "stream",
          "text": [
            "10000/10000 [==============================] - 0s 50us/step\n"
          ],
          "name": "stdout"
        },
        {
          "output_type": "execute_result",
          "data": {
            "text/plain": [
              "0.9418"
            ]
          },
          "metadata": {
            "tags": []
          },
          "execution_count": 24
        }
      ]
    },
    {
      "cell_type": "code",
      "metadata": {
        "id": "yDsl8VlsIuo0",
        "colab_type": "code",
        "colab": {
          "base_uri": "https://localhost:8080/",
          "height": 34
        },
        "outputId": "d1690d10-d633-45fd-f40d-4e35757f70f2"
      },
      "source": [
        "test_loss"
      ],
      "execution_count": 25,
      "outputs": [
        {
          "output_type": "execute_result",
          "data": {
            "text/plain": [
              "0.2072914800837636"
            ]
          },
          "metadata": {
            "tags": []
          },
          "execution_count": 25
        }
      ]
    },
    {
      "cell_type": "markdown",
      "metadata": {
        "id": "Py7siUQiwFaW",
        "colab_type": "text"
      },
      "source": [
        "## IMDB data"
      ]
    },
    {
      "cell_type": "code",
      "metadata": {
        "id": "NtvaqIGhwKKv",
        "colab_type": "code",
        "colab": {
          "base_uri": "https://localhost:8080/",
          "height": 34
        },
        "outputId": "5cd1593d-f75f-478a-ed80-09651adef99a"
      },
      "source": [
        "%reset"
      ],
      "execution_count": 26,
      "outputs": [
        {
          "output_type": "stream",
          "text": [
            "Once deleted, variables cannot be recovered. Proceed (y/[n])? y\n"
          ],
          "name": "stdout"
        }
      ]
    },
    {
      "cell_type": "code",
      "metadata": {
        "id": "S15KbJdSwSvs",
        "colab_type": "code",
        "colab": {}
      },
      "source": [
        "old = np.load\n",
        "np.load = lambda *a,**k: old(*a,**k,allow_pickle=True)\n",
        "\n",
        "from keras.datasets import imdb\n",
        "(train_data, train_labels), (test_data, test_labels) = imdb.load_data(num_words=10000)\n",
        "\n",
        "np.load = old\n",
        "del(old)\n"
      ],
      "execution_count": 0,
      "outputs": []
    },
    {
      "cell_type": "code",
      "metadata": {
        "id": "bRGn0bclxeAd",
        "colab_type": "code",
        "colab": {
          "base_uri": "https://localhost:8080/",
          "height": 34
        },
        "outputId": "95b0c533-70f5-4926-afeb-1577195d9655"
      },
      "source": [
        "len(train_data)"
      ],
      "execution_count": 42,
      "outputs": [
        {
          "output_type": "execute_result",
          "data": {
            "text/plain": [
              "25000"
            ]
          },
          "metadata": {
            "tags": []
          },
          "execution_count": 42
        }
      ]
    },
    {
      "cell_type": "code",
      "metadata": {
        "id": "iuA4C3r5yeDC",
        "colab_type": "code",
        "colab": {}
      },
      "source": [
        "def vectorize_sequences(sequences, dimension=10000):\n",
        "  results = np.zeros((len(sequences), dimension)) \n",
        "  for i, sequence in enumerate(sequences):\n",
        "    results[i, sequence] = 1.\n",
        "  return results\n",
        "  \n",
        "x_train = vectorize_sequences(train_data) \n",
        "x_test = vectorize_sequences(test_data)\n",
        "\n",
        "y_train = np.asarray(train_labels).astype('float32') \n",
        "y_test = np.asarray(test_labels).astype('float32')\n"
      ],
      "execution_count": 0,
      "outputs": []
    },
    {
      "cell_type": "code",
      "metadata": {
        "id": "o9no8WUZ1EO9",
        "colab_type": "code",
        "colab": {}
      },
      "source": [
        "from keras import models \n",
        "from keras import layers\n",
        "model = models.Sequential()\n",
        "model.add(layers.Dense(16, activation='relu', input_shape=(10000,)))\n",
        "model.add(layers.Dense(16, activation='relu'))\n",
        "model.add(layers.Dense(1, activation='sigmoid'))\n",
        "\n",
        "model.compile(optimizer='rmsprop', loss='binary_crossentropy', metrics=['accuracy'])\n"
      ],
      "execution_count": 0,
      "outputs": []
    },
    {
      "cell_type": "code",
      "metadata": {
        "id": "_6rNv4cu17dG",
        "colab_type": "code",
        "colab": {}
      },
      "source": [
        "x_val = x_train[:10000]\n",
        "partial_x_train = x_train[10000:]\n",
        "\n",
        "y_val = y_train[:10000]\n",
        "partial_y_train = y_train[10000:]\n"
      ],
      "execution_count": 0,
      "outputs": []
    },
    {
      "cell_type": "code",
      "metadata": {
        "id": "JmR7Hx3H2biy",
        "colab_type": "code",
        "colab": {
          "base_uri": "https://localhost:8080/",
          "height": 706
        },
        "outputId": "a3dc7764-1a45-45f3-80b6-336172d9abea"
      },
      "source": [
        "history = model.fit(partial_x_train, partial_y_train, epochs=20, batch_size=512, validation_data=(x_val, y_val))"
      ],
      "execution_count": 68,
      "outputs": [
        {
          "output_type": "stream",
          "text": [
            "Train on 15000 samples, validate on 10000 samples\n",
            "Epoch 1/20\n",
            "15000/15000 [==============================] - 3s 216us/step - loss: 0.5108 - acc: 0.7877 - val_loss: 0.3785 - val_acc: 0.8764\n",
            "Epoch 2/20\n",
            "15000/15000 [==============================] - 3s 197us/step - loss: 0.2989 - acc: 0.9077 - val_loss: 0.3132 - val_acc: 0.8772\n",
            "Epoch 3/20\n",
            "15000/15000 [==============================] - 3s 195us/step - loss: 0.2200 - acc: 0.9261 - val_loss: 0.2886 - val_acc: 0.8825\n",
            "Epoch 4/20\n",
            "15000/15000 [==============================] - 3s 194us/step - loss: 0.1707 - acc: 0.9451 - val_loss: 0.3465 - val_acc: 0.8611\n",
            "Epoch 5/20\n",
            "15000/15000 [==============================] - 3s 195us/step - loss: 0.1437 - acc: 0.9528 - val_loss: 0.2961 - val_acc: 0.8862\n",
            "Epoch 6/20\n",
            "15000/15000 [==============================] - 3s 197us/step - loss: 0.1164 - acc: 0.9637 - val_loss: 0.3079 - val_acc: 0.8813\n",
            "Epoch 7/20\n",
            "15000/15000 [==============================] - 3s 197us/step - loss: 0.0990 - acc: 0.9707 - val_loss: 0.3141 - val_acc: 0.8822\n",
            "Epoch 8/20\n",
            "15000/15000 [==============================] - 3s 196us/step - loss: 0.0827 - acc: 0.9755 - val_loss: 0.3327 - val_acc: 0.8815\n",
            "Epoch 9/20\n",
            "15000/15000 [==============================] - 3s 198us/step - loss: 0.0674 - acc: 0.9822 - val_loss: 0.4267 - val_acc: 0.8649\n",
            "Epoch 10/20\n",
            "15000/15000 [==============================] - 3s 196us/step - loss: 0.0568 - acc: 0.9859 - val_loss: 0.3809 - val_acc: 0.8786\n",
            "Epoch 11/20\n",
            "15000/15000 [==============================] - 3s 196us/step - loss: 0.0476 - acc: 0.9882 - val_loss: 0.4670 - val_acc: 0.8596\n",
            "Epoch 12/20\n",
            "15000/15000 [==============================] - 3s 196us/step - loss: 0.0385 - acc: 0.9906 - val_loss: 0.4336 - val_acc: 0.8754\n",
            "Epoch 13/20\n",
            "15000/15000 [==============================] - 3s 197us/step - loss: 0.0309 - acc: 0.9937 - val_loss: 0.4824 - val_acc: 0.8699\n",
            "Epoch 14/20\n",
            "15000/15000 [==============================] - 3s 196us/step - loss: 0.0263 - acc: 0.9953 - val_loss: 0.4963 - val_acc: 0.8716\n",
            "Epoch 15/20\n",
            "15000/15000 [==============================] - 3s 197us/step - loss: 0.0230 - acc: 0.9953 - val_loss: 0.5255 - val_acc: 0.8716\n",
            "Epoch 16/20\n",
            "15000/15000 [==============================] - 3s 198us/step - loss: 0.0142 - acc: 0.9988 - val_loss: 0.6298 - val_acc: 0.8558\n",
            "Epoch 17/20\n",
            "15000/15000 [==============================] - 3s 197us/step - loss: 0.0152 - acc: 0.9974 - val_loss: 0.5890 - val_acc: 0.8680\n",
            "Epoch 18/20\n",
            "15000/15000 [==============================] - 3s 197us/step - loss: 0.0125 - acc: 0.9984 - val_loss: 0.6214 - val_acc: 0.8650\n",
            "Epoch 19/20\n",
            "15000/15000 [==============================] - 3s 196us/step - loss: 0.0068 - acc: 0.9997 - val_loss: 0.6533 - val_acc: 0.8642\n",
            "Epoch 20/20\n",
            "15000/15000 [==============================] - 3s 196us/step - loss: 0.0079 - acc: 0.9989 - val_loss: 0.6832 - val_acc: 0.8641\n"
          ],
          "name": "stdout"
        }
      ]
    },
    {
      "cell_type": "code",
      "metadata": {
        "id": "JDVL4mEL2yQ5",
        "colab_type": "code",
        "colab": {
          "base_uri": "https://localhost:8080/",
          "height": 295
        },
        "outputId": "c2a0b0e8-8e82-4139-eef2-a5e1544f7cef"
      },
      "source": [
        "import matplotlib.pyplot as plt\n",
        "history_dict = history.history \n",
        "loss_values = history_dict['loss'] \n",
        "val_loss_values = history_dict['val_loss']\n",
        "epochs = range(1, 20 + 1)\n",
        "plt.plot(epochs, loss_values, 'bo', label='Training loss') \n",
        "plt.plot(epochs, val_loss_values, 'b', label='Validation loss')\n",
        "plt.title('Training and validation loss')\n",
        "plt.xlabel('Epochs') \n",
        "plt.ylabel('Loss')\n",
        "plt.legend()\n",
        "plt.show()\n"
      ],
      "execution_count": 69,
      "outputs": [
        {
          "output_type": "display_data",
          "data": {
            "image/png": "[encoded data removed]",
            "text/plain": [
              "<Figure size 432x288 with 1 Axes>"
            ]
          },
          "metadata": {
            "tags": []
          }
        }
      ]
    },
    {
      "cell_type": "code",
      "metadata": {
        "id": "he_Am5sD3k-C",
        "colab_type": "code",
        "colab": {
          "base_uri": "https://localhost:8080/",
          "height": 295
        },
        "outputId": "2d69d744-a553-4531-8ead-ed42b3c92151"
      },
      "source": [
        "plt.clf() \n",
        "acc_values = history_dict['acc'] \n",
        "val_acc_values = history_dict['val_acc']\n",
        "plt.plot(epochs,acc_values, 'bo', label='Training acc') \n",
        "plt.plot(epochs, val_acc_values, 'b', label='Validation acc') \n",
        "plt.title('Training and validation accuracy')\n",
        "plt.xlabel('Epochs')\n",
        "plt.ylabel('Loss') \n",
        "plt.legend()\n",
        "plt.show()\n"
      ],
      "execution_count": 70,
      "outputs": [
        {
          "output_type": "display_data",
          "data": {
            "image/png": "[encoded data removed]",
            "text/plain": [
              "<Figure size 432x288 with 1 Axes>"
            ]
          },
          "metadata": {
            "tags": []
          }
        }
      ]
    },
    {
      "cell_type": "code",
      "metadata": {
        "id": "L_5YpKby4sWB",
        "colab_type": "code",
        "colab": {
          "base_uri": "https://localhost:8080/",
          "height": 185
        },
        "outputId": "c75cf69a-dcda-4887-bd5e-72c3b4fef8a8"
      },
      "source": [
        "model.fit(x_train, y_train, epochs=4, batch_size=512)\n",
        "results = model.evaluate(x_test, y_test)\n",
        "results"
      ],
      "execution_count": 71,
      "outputs": [
        {
          "output_type": "stream",
          "text": [
            "Epoch 1/4\n",
            "25000/25000 [==============================] - 4s 167us/step - loss: 0.2345 - acc: 0.9459\n",
            "Epoch 2/4\n",
            "25000/25000 [==============================] - 4s 169us/step - loss: 0.1417 - acc: 0.9595\n",
            "Epoch 3/4\n",
            "25000/25000 [==============================] - 4s 168us/step - loss: 0.1133 - acc: 0.9659\n",
            "Epoch 4/4\n",
            "25000/25000 [==============================] - 4s 168us/step - loss: 0.0906 - acc: 0.9728\n",
            "25000/25000 [==============================] - 2s 77us/step\n"
          ],
          "name": "stdout"
        },
        {
          "output_type": "execute_result",
          "data": {
            "text/plain": [
              "[0.5065204941129684, 0.8576]"
            ]
          },
          "metadata": {
            "tags": []
          },
          "execution_count": 71
        }
      ]
    },
    {
      "cell_type": "code",
      "metadata": {
        "id": "YJSnq2l-30DP",
        "colab_type": "code",
        "colab": {
          "base_uri": "https://localhost:8080/",
          "height": 134
        },
        "outputId": "a1578173-aeaf-42f4-be42-6e457b9a783c"
      },
      "source": [
        "model.predict(x_test) "
      ],
      "execution_count": 72,
      "outputs": [
        {
          "output_type": "execute_result",
          "data": {
            "text/plain": [
              "array([[0.01763484],\n",
              "       [0.9999964 ],\n",
              "       [0.70480716],\n",
              "       ...,\n",
              "       [0.05098599],\n",
              "       [0.04476702],\n",
              "       [0.7054982 ]], dtype=float32)"
            ]
          },
          "metadata": {
            "tags": []
          },
          "execution_count": 72
        }
      ]
    }
  ]
}