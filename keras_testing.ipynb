{
  "nbformat": 4,
  "nbformat_minor": 0,
  "metadata": {
    "colab": {
      "name": "keras_testing.ipynb",
      "version": "0.3.2",
      "provenance": [],
      "toc_visible": true,
      "include_colab_link": true
    },
    "kernelspec": {
      "name": "python3",
      "display_name": "Python 3"
    }
  },
  "cells": [
    {
      "cell_type": "markdown",
      "metadata": {
        "id": "view-in-github",
        "colab_type": "text"
      },
      "source": [
        "<a href=\"https://colab.research.google.com/github/martin-kosiik/Test/blob/master/keras_testing.ipynb\" target=\"_parent\"><img src=\"https://colab.research.google.com/assets/colab-badge.svg\" alt=\"Open In Colab\"/></a>"
      ]
    },
    {
      "cell_type": "code",
      "metadata": {
        "id": "n1Fp2vYh7JgL",
        "colab_type": "code",
        "colab": {}
      },
      "source": [
        "import numpy as np"
      ],
      "execution_count": 0,
      "outputs": []
    },
    {
      "cell_type": "code",
      "metadata": {
        "id": "31rFiiJr7Wqr",
        "colab_type": "code",
        "colab": {}
      },
      "source": [
        "import keras"
      ],
      "execution_count": 0,
      "outputs": []
    },
    {
      "cell_type": "markdown",
      "metadata": {
        "id": "YgZCOu397YsM",
        "colab_type": "text"
      },
      "source": [
        "Interesting code \n",
        "### Important section"
      ]
    },
    {
      "cell_type": "code",
      "metadata": {
        "id": "qPXckMCF7nJZ",
        "colab_type": "code",
        "outputId": "b0007cf4-9455-4d27-fef4-c96309de4e2c",
        "colab": {
          "base_uri": "https://localhost:8080/",
          "height": 34
        }
      },
      "source": [
        "def function1(x, y):\n",
        "  return x + y\n",
        "\n",
        "function1(1, 2)"
      ],
      "execution_count": 0,
      "outputs": [
        {
          "output_type": "execute_result",
          "data": {
            "text/plain": [
              "3"
            ]
          },
          "metadata": {
            "tags": []
          },
          "execution_count": 3
        }
      ]
    },
    {
      "cell_type": "markdown",
      "metadata": {
        "id": "iefqfnBxfLxv",
        "colab_type": "text"
      },
      "source": [
        "# New Section"
      ]
    },
    {
      "cell_type": "code",
      "metadata": {
        "id": "ZsRbbojgFlgJ",
        "colab_type": "code",
        "outputId": "45474f89-9589-4b83-a1d6-dc6e5375b0d4",
        "colab": {
          "base_uri": "https://localhost:8080/",
          "height": 50
        }
      },
      "source": [
        "from keras.datasets import mnist\n",
        "\n",
        "(x_train, y_train), (x_test, y_test) = mnist.load_data()\n"
      ],
      "execution_count": 0,
      "outputs": [
        {
          "output_type": "stream",
          "text": [
            "Downloading data from https://s3.amazonaws.com/img-datasets/mnist.npz\n",
            "11493376/11490434 [==============================] - 0s 0us/step\n"
          ],
          "name": "stdout"
        }
      ]
    },
    {
      "cell_type": "code",
      "metadata": {
        "id": "fcsHstqNFveT",
        "colab_type": "code",
        "outputId": "8986b759-b88a-4f64-e088-7787615f1b68",
        "colab": {
          "base_uri": "https://localhost:8080/",
          "height": 840
        }
      },
      "source": [
        ""
      ],
      "execution_count": 0,
      "outputs": [
        {
          "output_type": "execute_result",
          "data": {
            "text/plain": [
              "array([[[0, 0, 0, ..., 0, 0, 0],\n",
              "        [0, 0, 0, ..., 0, 0, 0],\n",
              "        [0, 0, 0, ..., 0, 0, 0],\n",
              "        ...,\n",
              "        [0, 0, 0, ..., 0, 0, 0],\n",
              "        [0, 0, 0, ..., 0, 0, 0],\n",
              "        [0, 0, 0, ..., 0, 0, 0]],\n",
              "\n",
              "       [[0, 0, 0, ..., 0, 0, 0],\n",
              "        [0, 0, 0, ..., 0, 0, 0],\n",
              "        [0, 0, 0, ..., 0, 0, 0],\n",
              "        ...,\n",
              "        [0, 0, 0, ..., 0, 0, 0],\n",
              "        [0, 0, 0, ..., 0, 0, 0],\n",
              "        [0, 0, 0, ..., 0, 0, 0]],\n",
              "\n",
              "       [[0, 0, 0, ..., 0, 0, 0],\n",
              "        [0, 0, 0, ..., 0, 0, 0],\n",
              "        [0, 0, 0, ..., 0, 0, 0],\n",
              "        ...,\n",
              "        [0, 0, 0, ..., 0, 0, 0],\n",
              "        [0, 0, 0, ..., 0, 0, 0],\n",
              "        [0, 0, 0, ..., 0, 0, 0]],\n",
              "\n",
              "       ...,\n",
              "\n",
              "       [[0, 0, 0, ..., 0, 0, 0],\n",
              "        [0, 0, 0, ..., 0, 0, 0],\n",
              "        [0, 0, 0, ..., 0, 0, 0],\n",
              "        ...,\n",
              "        [0, 0, 0, ..., 0, 0, 0],\n",
              "        [0, 0, 0, ..., 0, 0, 0],\n",
              "        [0, 0, 0, ..., 0, 0, 0]],\n",
              "\n",
              "       [[0, 0, 0, ..., 0, 0, 0],\n",
              "        [0, 0, 0, ..., 0, 0, 0],\n",
              "        [0, 0, 0, ..., 0, 0, 0],\n",
              "        ...,\n",
              "        [0, 0, 0, ..., 0, 0, 0],\n",
              "        [0, 0, 0, ..., 0, 0, 0],\n",
              "        [0, 0, 0, ..., 0, 0, 0]],\n",
              "\n",
              "       [[0, 0, 0, ..., 0, 0, 0],\n",
              "        [0, 0, 0, ..., 0, 0, 0],\n",
              "        [0, 0, 0, ..., 0, 0, 0],\n",
              "        ...,\n",
              "        [0, 0, 0, ..., 0, 0, 0],\n",
              "        [0, 0, 0, ..., 0, 0, 0],\n",
              "        [0, 0, 0, ..., 0, 0, 0]]], dtype=uint8)"
            ]
          },
          "metadata": {
            "tags": []
          },
          "execution_count": 7
        }
      ]
    },
    {
      "cell_type": "code",
      "metadata": {
        "id": "y1-9J114F82C",
        "colab_type": "code",
        "colab": {}
      },
      "source": [
        "from keras.models import Sequential\n",
        "\n",
        "model = Sequential()\n",
        "\n",
        "from keras.layers import Dense\n",
        "\n",
        "model.add(Dense(units=512, activation='relu', input_shape = (28 * 28, )))\n",
        "model.add(Dense(units=10, activation='softmax'))\n"
      ],
      "execution_count": 0,
      "outputs": []
    },
    {
      "cell_type": "code",
      "metadata": {
        "id": "yKEu2HgKHS0e",
        "colab_type": "code",
        "colab": {}
      },
      "source": [
        "from keras import models \n",
        "from keras import layers\n",
        "model = models.Sequential() \n",
        "model.add(layers.Dense(512, activation='relu', input_shape=(28 * 28,)))\n",
        "model.add(layers.Dense(10, activation='softmax'))\n"
      ],
      "execution_count": 0,
      "outputs": []
    },
    {
      "cell_type": "code",
      "metadata": {
        "id": "gQgFrWJ6GJXw",
        "colab_type": "code",
        "colab": {}
      },
      "source": [
        "model.compile(loss='categorical_crossentropy',\n",
        "              optimizer='sgd',\n",
        "              metrics=['accuracy'])\n"
      ],
      "execution_count": 0,
      "outputs": []
    },
    {
      "cell_type": "code",
      "metadata": {
        "id": "82WPIU7cHnSS",
        "colab_type": "code",
        "colab": {}
      },
      "source": [
        "x_train = x_train.reshape((60000, 28 * 28))\n",
        "x_train = x_train.astype('float32') / 255\n",
        "x_test = x_test.reshape((10000, 28 * 28))\n",
        "x_test = x_test.astype('float32') / 255\n"
      ],
      "execution_count": 0,
      "outputs": []
    },
    {
      "cell_type": "code",
      "metadata": {
        "id": "jolMupViIDSp",
        "colab_type": "code",
        "colab": {}
      },
      "source": [
        "from keras.utils import to_categorical\n",
        "y_train = to_categorical(y_train)\n",
        "y_test = to_categorical(y_test)\n"
      ],
      "execution_count": 0,
      "outputs": []
    },
    {
      "cell_type": "code",
      "metadata": {
        "id": "R2A3IbIxGUQu",
        "colab_type": "code",
        "outputId": "9b8f2351-2a2a-45a1-ce2f-1788061aa3ca",
        "colab": {
          "base_uri": "https://localhost:8080/",
          "height": 272
        }
      },
      "source": [
        "model.fit(x_train, y_train, epochs=5, batch_size=32)"
      ],
      "execution_count": 0,
      "outputs": [
        {
          "output_type": "stream",
          "text": [
            "WARNING:tensorflow:From /usr/local/lib/python3.6/dist-packages/tensorflow/python/ops/math_ops.py:3066: to_int32 (from tensorflow.python.ops.math_ops) is deprecated and will be removed in a future version.\n",
            "Instructions for updating:\n",
            "Use tf.cast instead.\n",
            "Epoch 1/5\n",
            "60000/60000 [==============================] - 9s 154us/step - loss: 0.6053 - acc: 0.8525\n",
            "Epoch 2/5\n",
            "60000/60000 [==============================] - 9s 143us/step - loss: 0.3215 - acc: 0.9104\n",
            "Epoch 3/5\n",
            "60000/60000 [==============================] - 9s 143us/step - loss: 0.2736 - acc: 0.9233\n",
            "Epoch 4/5\n",
            "60000/60000 [==============================] - 9s 142us/step - loss: 0.2429 - acc: 0.9322\n",
            "Epoch 5/5\n",
            "60000/60000 [==============================] - 9s 144us/step - loss: 0.2195 - acc: 0.9390\n"
          ],
          "name": "stdout"
        },
        {
          "output_type": "execute_result",
          "data": {
            "text/plain": [
              "<keras.callbacks.History at 0x7fcf01111a20>"
            ]
          },
          "metadata": {
            "tags": []
          },
          "execution_count": 22
        }
      ]
    },
    {
      "cell_type": "code",
      "metadata": {
        "id": "aPVytinwIct1",
        "colab_type": "code",
        "outputId": "5807a1f1-07a9-40af-eeac-962f43483f93",
        "colab": {
          "base_uri": "https://localhost:8080/",
          "height": 50
        }
      },
      "source": [
        "test_loss, test_acc = model.evaluate(x_test, y_test) \n",
        "test_loss\n",
        "test_acc"
      ],
      "execution_count": 0,
      "outputs": [
        {
          "output_type": "stream",
          "text": [
            "10000/10000 [==============================] - 0s 50us/step\n"
          ],
          "name": "stdout"
        },
        {
          "output_type": "execute_result",
          "data": {
            "text/plain": [
              "0.9418"
            ]
          },
          "metadata": {
            "tags": []
          },
          "execution_count": 24
        }
      ]
    },
    {
      "cell_type": "code",
      "metadata": {
        "id": "yDsl8VlsIuo0",
        "colab_type": "code",
        "outputId": "d1690d10-d633-45fd-f40d-4e35757f70f2",
        "colab": {
          "base_uri": "https://localhost:8080/",
          "height": 34
        }
      },
      "source": [
        "test_loss"
      ],
      "execution_count": 0,
      "outputs": [
        {
          "output_type": "execute_result",
          "data": {
            "text/plain": [
              "0.2072914800837636"
            ]
          },
          "metadata": {
            "tags": []
          },
          "execution_count": 25
        }
      ]
    },
    {
      "cell_type": "markdown",
      "metadata": {
        "id": "Py7siUQiwFaW",
        "colab_type": "text"
      },
      "source": [
        "## IMDB data"
      ]
    },
    {
      "cell_type": "code",
      "metadata": {
        "id": "NtvaqIGhwKKv",
        "colab_type": "code",
        "outputId": "b9e435d2-547a-4e21-9635-ec78d2ef4696",
        "colab": {
          "base_uri": "https://localhost:8080/",
          "height": 34
        }
      },
      "source": [
        "%reset"
      ],
      "execution_count": 5,
      "outputs": [
        {
          "output_type": "stream",
          "text": [
            "Once deleted, variables cannot be recovered. Proceed (y/[n])? y\n"
          ],
          "name": "stdout"
        }
      ]
    },
    {
      "cell_type": "code",
      "metadata": {
        "id": "S15KbJdSwSvs",
        "colab_type": "code",
        "colab": {
          "base_uri": "https://localhost:8080/",
          "height": 67
        },
        "outputId": "f58729f7-eaa4-43f2-c9b5-17e555af9362"
      },
      "source": [
        "old = np.load\n",
        "np.load = lambda *a,**k: old(*a,**k,allow_pickle=True)\n",
        "\n",
        "from keras.datasets import imdb\n",
        "(train_data, train_labels), (test_data, test_labels) = imdb.load_data(num_words=10000)\n",
        "\n",
        "np.load = old\n",
        "del(old)\n"
      ],
      "execution_count": 3,
      "outputs": [
        {
          "output_type": "stream",
          "text": [
            "Using TensorFlow backend.\n"
          ],
          "name": "stderr"
        },
        {
          "output_type": "stream",
          "text": [
            "Downloading data from https://s3.amazonaws.com/text-datasets/imdb.npz\n",
            "17465344/17464789 [==============================] - 1s 0us/step\n"
          ],
          "name": "stdout"
        }
      ]
    },
    {
      "cell_type": "code",
      "metadata": {
        "id": "17VXEAjHPZa9",
        "colab_type": "code",
        "colab": {}
      },
      "source": [
        ""
      ],
      "execution_count": 0,
      "outputs": []
    },
    {
      "cell_type": "code",
      "metadata": {
        "id": "bRGn0bclxeAd",
        "colab_type": "code",
        "outputId": "95b0c533-70f5-4926-afeb-1577195d9655",
        "colab": {
          "base_uri": "https://localhost:8080/",
          "height": 34
        }
      },
      "source": [
        "len(train_data)"
      ],
      "execution_count": 0,
      "outputs": [
        {
          "output_type": "execute_result",
          "data": {
            "text/plain": [
              "25000"
            ]
          },
          "metadata": {
            "tags": []
          },
          "execution_count": 42
        }
      ]
    },
    {
      "cell_type": "code",
      "metadata": {
        "id": "iuA4C3r5yeDC",
        "colab_type": "code",
        "colab": {}
      },
      "source": [
        "def vectorize_sequences(sequences, dimension=10000):\n",
        "  results = np.zeros((len(sequences), dimension)) \n",
        "  for i, sequence in enumerate(sequences):\n",
        "    results[i, sequence] = 1.\n",
        "  return results\n",
        "  \n",
        "x_train = vectorize_sequences(train_data) \n",
        "x_test = vectorize_sequences(test_data)\n",
        "\n",
        "y_train = np.asarray(train_labels).astype('float32') \n",
        "y_test = np.asarray(test_labels).astype('float32')\n"
      ],
      "execution_count": 0,
      "outputs": []
    },
    {
      "cell_type": "code",
      "metadata": {
        "id": "o9no8WUZ1EO9",
        "colab_type": "code",
        "colab": {}
      },
      "source": [
        "from keras import models \n",
        "from keras import layers\n",
        "model = models.Sequential()\n",
        "model.add(layers.Dense(16, activation='relu', input_shape=(10000,)))\n",
        "model.add(layers.Dense(16, activation='relu'))\n",
        "model.add(layers.Dense(1, activation='sigmoid'))\n",
        "\n",
        "model.compile(optimizer='rmsprop', loss='binary_crossentropy', metrics=['accuracy'])\n"
      ],
      "execution_count": 0,
      "outputs": []
    },
    {
      "cell_type": "code",
      "metadata": {
        "id": "_6rNv4cu17dG",
        "colab_type": "code",
        "colab": {}
      },
      "source": [
        "x_val = x_train[:10000]\n",
        "partial_x_train = x_train[10000:]\n",
        "\n",
        "y_val = y_train[:10000]\n",
        "partial_y_train = y_train[10000:]\n"
      ],
      "execution_count": 0,
      "outputs": []
    },
    {
      "cell_type": "code",
      "metadata": {
        "id": "JmR7Hx3H2biy",
        "colab_type": "code",
        "outputId": "a3dc7764-1a45-45f3-80b6-336172d9abea",
        "colab": {
          "base_uri": "https://localhost:8080/",
          "height": 706
        }
      },
      "source": [
        "history = model.fit(partial_x_train, partial_y_train, epochs=20, batch_size=512, validation_data=(x_val, y_val))"
      ],
      "execution_count": 0,
      "outputs": [
        {
          "output_type": "stream",
          "text": [
            "Train on 15000 samples, validate on 10000 samples\n",
            "Epoch 1/20\n",
            "15000/15000 [==============================] - 3s 216us/step - loss: 0.5108 - acc: 0.7877 - val_loss: 0.3785 - val_acc: 0.8764\n",
            "Epoch 2/20\n",
            "15000/15000 [==============================] - 3s 197us/step - loss: 0.2989 - acc: 0.9077 - val_loss: 0.3132 - val_acc: 0.8772\n",
            "Epoch 3/20\n",
            "15000/15000 [==============================] - 3s 195us/step - loss: 0.2200 - acc: 0.9261 - val_loss: 0.2886 - val_acc: 0.8825\n",
            "Epoch 4/20\n",
            "15000/15000 [==============================] - 3s 194us/step - loss: 0.1707 - acc: 0.9451 - val_loss: 0.3465 - val_acc: 0.8611\n",
            "Epoch 5/20\n",
            "15000/15000 [==============================] - 3s 195us/step - loss: 0.1437 - acc: 0.9528 - val_loss: 0.2961 - val_acc: 0.8862\n",
            "Epoch 6/20\n",
            "15000/15000 [==============================] - 3s 197us/step - loss: 0.1164 - acc: 0.9637 - val_loss: 0.3079 - val_acc: 0.8813\n",
            "Epoch 7/20\n",
            "15000/15000 [==============================] - 3s 197us/step - loss: 0.0990 - acc: 0.9707 - val_loss: 0.3141 - val_acc: 0.8822\n",
            "Epoch 8/20\n",
            "15000/15000 [==============================] - 3s 196us/step - loss: 0.0827 - acc: 0.9755 - val_loss: 0.3327 - val_acc: 0.8815\n",
            "Epoch 9/20\n",
            "15000/15000 [==============================] - 3s 198us/step - loss: 0.0674 - acc: 0.9822 - val_loss: 0.4267 - val_acc: 0.8649\n",
            "Epoch 10/20\n",
            "15000/15000 [==============================] - 3s 196us/step - loss: 0.0568 - acc: 0.9859 - val_loss: 0.3809 - val_acc: 0.8786\n",
            "Epoch 11/20\n",
            "15000/15000 [==============================] - 3s 196us/step - loss: 0.0476 - acc: 0.9882 - val_loss: 0.4670 - val_acc: 0.8596\n",
            "Epoch 12/20\n",
            "15000/15000 [==============================] - 3s 196us/step - loss: 0.0385 - acc: 0.9906 - val_loss: 0.4336 - val_acc: 0.8754\n",
            "Epoch 13/20\n",
            "15000/15000 [==============================] - 3s 197us/step - loss: 0.0309 - acc: 0.9937 - val_loss: 0.4824 - val_acc: 0.8699\n",
            "Epoch 14/20\n",
            "15000/15000 [==============================] - 3s 196us/step - loss: 0.0263 - acc: 0.9953 - val_loss: 0.4963 - val_acc: 0.8716\n",
            "Epoch 15/20\n",
            "15000/15000 [==============================] - 3s 197us/step - loss: 0.0230 - acc: 0.9953 - val_loss: 0.5255 - val_acc: 0.8716\n",
            "Epoch 16/20\n",
            "15000/15000 [==============================] - 3s 198us/step - loss: 0.0142 - acc: 0.9988 - val_loss: 0.6298 - val_acc: 0.8558\n",
            "Epoch 17/20\n",
            "15000/15000 [==============================] - 3s 197us/step - loss: 0.0152 - acc: 0.9974 - val_loss: 0.5890 - val_acc: 0.8680\n",
            "Epoch 18/20\n",
            "15000/15000 [==============================] - 3s 197us/step - loss: 0.0125 - acc: 0.9984 - val_loss: 0.6214 - val_acc: 0.8650\n",
            "Epoch 19/20\n",
            "15000/15000 [==============================] - 3s 196us/step - loss: 0.0068 - acc: 0.9997 - val_loss: 0.6533 - val_acc: 0.8642\n",
            "Epoch 20/20\n",
            "15000/15000 [==============================] - 3s 196us/step - loss: 0.0079 - acc: 0.9989 - val_loss: 0.6832 - val_acc: 0.8641\n"
          ],
          "name": "stdout"
        }
      ]
    },
    {
      "cell_type": "code",
      "metadata": {
        "id": "JDVL4mEL2yQ5",
        "colab_type": "code",
        "outputId": "c2a0b0e8-8e82-4139-eef2-a5e1544f7cef",
        "colab": {
          "base_uri": "https://localhost:8080/",
          "height": 295
        }
      },
      "source": [
        "import matplotlib.pyplot as plt\n",
        "history_dict = history.history \n",
        "loss_values = history_dict['loss'] \n",
        "val_loss_values = history_dict['val_loss']\n",
        "epochs = range(1, 20 + 1)\n",
        "plt.plot(epochs, loss_values, 'bo', label='Training loss') \n",
        "plt.plot(epochs, val_loss_values, 'b', label='Validation loss')\n",
        "plt.title('Training and validation loss')\n",
        "plt.xlabel('Epochs') \n",
        "plt.ylabel('Loss')\n",
        "plt.legend()\n",
        "plt.show()\n"
      ],
      "execution_count": 0,
      "outputs": [
        {
          "output_type": "display_data",
          "data": {
            "image/png": "[encoded data removed]",
            "text/plain": [
              "<Figure size 432x288 with 1 Axes>"
            ]
          },
          "metadata": {
            "tags": []
          }
        }
      ]
    },
    {
      "cell_type": "code",
      "metadata": {
        "id": "he_Am5sD3k-C",
        "colab_type": "code",
        "outputId": "2d69d744-a553-4531-8ead-ed42b3c92151",
        "colab": {
          "base_uri": "https://localhost:8080/",
          "height": 295
        }
      },
      "source": [
        "plt.clf() \n",
        "acc_values = history_dict['acc'] \n",
        "val_acc_values = history_dict['val_acc']\n",
        "plt.plot(epochs,acc_values, 'bo', label='Training acc') \n",
        "plt.plot(epochs, val_acc_values, 'b', label='Validation acc') \n",
        "plt.title('Training and validation accuracy')\n",
        "plt.xlabel('Epochs')\n",
        "plt.ylabel('Loss') \n",
        "plt.legend()\n",
        "plt.show()\n"
      ],
      "execution_count": 0,
      "outputs": [
        {
          "output_type": "display_data",
          "data": {
            "image/png": "[encoded data removed]",
            "text/plain": [
              "<Figure size 432x288 with 1 Axes>"
            ]
          },
          "metadata": {
            "tags": []
          }
        }
      ]
    },
    {
      "cell_type": "code",
      "metadata": {
        "id": "L_5YpKby4sWB",
        "colab_type": "code",
        "outputId": "c75cf69a-dcda-4887-bd5e-72c3b4fef8a8",
        "colab": {
          "base_uri": "https://localhost:8080/",
          "height": 185
        }
      },
      "source": [
        "model.fit(x_train, y_train, epochs=4, batch_size=512)\n",
        "results = model.evaluate(x_test, y_test)\n",
        "results"
      ],
      "execution_count": 0,
      "outputs": [
        {
          "output_type": "stream",
          "text": [
            "Epoch 1/4\n",
            "25000/25000 [==============================] - 4s 167us/step - loss: 0.2345 - acc: 0.9459\n",
            "Epoch 2/4\n",
            "25000/25000 [==============================] - 4s 169us/step - loss: 0.1417 - acc: 0.9595\n",
            "Epoch 3/4\n",
            "25000/25000 [==============================] - 4s 168us/step - loss: 0.1133 - acc: 0.9659\n",
            "Epoch 4/4\n",
            "25000/25000 [==============================] - 4s 168us/step - loss: 0.0906 - acc: 0.9728\n",
            "25000/25000 [==============================] - 2s 77us/step\n"
          ],
          "name": "stdout"
        },
        {
          "output_type": "execute_result",
          "data": {
            "text/plain": [
              "[0.5065204941129684, 0.8576]"
            ]
          },
          "metadata": {
            "tags": []
          },
          "execution_count": 71
        }
      ]
    },
    {
      "cell_type": "code",
      "metadata": {
        "id": "YJSnq2l-30DP",
        "colab_type": "code",
        "outputId": "a1578173-aeaf-42f4-be42-6e457b9a783c",
        "colab": {
          "base_uri": "https://localhost:8080/",
          "height": 134
        }
      },
      "source": [
        "model.predict(x_test) "
      ],
      "execution_count": 0,
      "outputs": [
        {
          "output_type": "execute_result",
          "data": {
            "text/plain": [
              "array([[0.01763484],\n",
              "       [0.9999964 ],\n",
              "       [0.70480716],\n",
              "       ...,\n",
              "       [0.05098599],\n",
              "       [0.04476702],\n",
              "       [0.7054982 ]], dtype=float32)"
            ]
          },
          "metadata": {
            "tags": []
          },
          "execution_count": 72
        }
      ]
    },
    {
      "cell_type": "code",
      "metadata": {
        "id": "CM-yXHudPb_O",
        "colab_type": "code",
        "outputId": "af56886f-42d4-4be1-fba7-cf1caa865409",
        "colab": {
          "base_uri": "https://localhost:8080/",
          "height": 50
        }
      },
      "source": [
        "old = np.load\n",
        "np.load = lambda *a,**k: old(*a,**k,allow_pickle=True)\n",
        "\n",
        "from keras.datasets import reuters\n",
        "(train_data, train_labels), (test_data, test_labels) = reuters.load_data(num_words=10000)\n",
        "\n",
        "np.load = old\n",
        "del(old)\n"
      ],
      "execution_count": 0,
      "outputs": [
        {
          "output_type": "stream",
          "text": [
            "Downloading data from https://s3.amazonaws.com/text-datasets/reuters.npz\n",
            "2113536/2110848 [==============================] - 0s 0us/step\n"
          ],
          "name": "stdout"
        }
      ]
    },
    {
      "cell_type": "code",
      "metadata": {
        "id": "zfVjp0I8PuUc",
        "colab_type": "code",
        "outputId": "17a35c04-8c3a-489a-bf5b-f662806dfd71",
        "colab": {
          "base_uri": "https://localhost:8080/",
          "height": 54
        }
      },
      "source": [
        "word_index = reuters.get_word_index()\n",
        "reverse_word_index = dict([(value, key) for (key, value) in word_index.items()]) \n",
        "decoded_newswire = ' '.join([reverse_word_index.get(i - 3, '?') for i in train_data[0]])\n",
        "decoded_newswire"
      ],
      "execution_count": 0,
      "outputs": [
        {
          "output_type": "execute_result",
          "data": {
            "text/plain": [
              "'? ? ? said as a result of its december acquisition of space co it expects earnings per share in 1987 of 1 15 to 1 30 dlrs per share up from 70 cts in 1986 the company said pretax net should rise to nine to 10 mln dlrs from six mln dlrs in 1986 and rental operation revenues to 19 to 22 mln dlrs from 12 5 mln dlrs it said cash flow per share this year should be 2 50 to three dlrs reuter 3'"
            ]
          },
          "metadata": {
            "tags": []
          },
          "execution_count": 79
        }
      ]
    },
    {
      "cell_type": "code",
      "metadata": {
        "id": "_rOVGIi8QGMf",
        "colab_type": "code",
        "colab": {}
      },
      "source": [
        "def vectorize_sequences(sequences, dimension=10000):\n",
        "  results = np.zeros((len(sequences), dimension)) \n",
        "  for i, sequence in enumerate(sequences):\n",
        "    results[i, sequence] = 1.\n",
        "  return results\n",
        "  \n",
        "x_train = vectorize_sequences(train_data) \n",
        "x_test = vectorize_sequences(test_data)\n",
        "\n",
        "y_train = np.asarray(train_labels).astype('float32') \n",
        "y_test = np.asarray(test_labels).astype('float32')\n"
      ],
      "execution_count": 0,
      "outputs": []
    },
    {
      "cell_type": "code",
      "metadata": {
        "id": "t8V-mCVlQXtH",
        "colab_type": "code",
        "colab": {}
      },
      "source": [
        "from keras.utils.np_utils import to_categorical\n",
        "one_hot_train_labels = to_categorical(train_labels) \n",
        "one_hot_test_labels = to_categorical(test_labels)\n"
      ],
      "execution_count": 0,
      "outputs": []
    },
    {
      "cell_type": "code",
      "metadata": {
        "id": "2IffEqswQ3v4",
        "colab_type": "code",
        "colab": {}
      },
      "source": [
        "from keras import models\n",
        "from keras import layers\n",
        "model = models.Sequential()\n",
        "model.add(layers.Dense(64, activation='relu', input_shape=(10000,)))\n",
        "model.add(layers.Dense(64, activation='relu'))\n",
        "model.add(layers.Dense(46, activation='softmax'))"
      ],
      "execution_count": 0,
      "outputs": []
    },
    {
      "cell_type": "code",
      "metadata": {
        "id": "94OsOHUaRLiZ",
        "colab_type": "code",
        "colab": {}
      },
      "source": [
        "model.compile(optimizer='rmsprop', loss='categorical_crossentropy', metrics=['accuracy'])\n"
      ],
      "execution_count": 0,
      "outputs": []
    },
    {
      "cell_type": "code",
      "metadata": {
        "id": "sTWzie78RP4o",
        "colab_type": "code",
        "colab": {}
      },
      "source": [
        "x_val = x_train[:1000]\n",
        "partial_x_train = x_train[1000:]\n",
        "y_val = one_hot_train_labels[:1000] \n",
        "partial_y_train = one_hot_train_labels[1000:]\n"
      ],
      "execution_count": 0,
      "outputs": []
    },
    {
      "cell_type": "code",
      "metadata": {
        "id": "g16v8H_8RZyi",
        "colab_type": "code",
        "outputId": "6ab05252-9025-4de2-b8d9-4a5c3e848cb0",
        "colab": {
          "base_uri": "https://localhost:8080/",
          "height": 706
        }
      },
      "source": [
        "history = model.fit(partial_x_train, partial_y_train, epochs=20, batch_size=512, validation_data=(x_val, y_val))\n"
      ],
      "execution_count": 0,
      "outputs": [
        {
          "output_type": "stream",
          "text": [
            "Train on 7982 samples, validate on 1000 samples\n",
            "Epoch 1/20\n",
            "7982/7982 [==============================] - 3s 338us/step - loss: 2.5322 - acc: 0.4955 - val_loss: 1.7208 - val_acc: 0.6120\n",
            "Epoch 2/20\n",
            "7982/7982 [==============================] - 2s 233us/step - loss: 1.4452 - acc: 0.6879 - val_loss: 1.3459 - val_acc: 0.7060\n",
            "Epoch 3/20\n",
            "7982/7982 [==============================] - 2s 231us/step - loss: 1.0952 - acc: 0.7656 - val_loss: 1.1710 - val_acc: 0.7440\n",
            "Epoch 4/20\n",
            "7982/7982 [==============================] - 2s 230us/step - loss: 0.8696 - acc: 0.8165 - val_loss: 1.0803 - val_acc: 0.7590\n",
            "Epoch 5/20\n",
            "7982/7982 [==============================] - 2s 232us/step - loss: 0.7033 - acc: 0.8474 - val_loss: 0.9845 - val_acc: 0.7820\n",
            "Epoch 6/20\n",
            "7982/7982 [==============================] - 2s 231us/step - loss: 0.5665 - acc: 0.8796 - val_loss: 0.9414 - val_acc: 0.8030\n",
            "Epoch 7/20\n",
            "7982/7982 [==============================] - 2s 231us/step - loss: 0.4584 - acc: 0.9048 - val_loss: 0.9078 - val_acc: 0.8010\n",
            "Epoch 8/20\n",
            "7982/7982 [==============================] - 2s 229us/step - loss: 0.3697 - acc: 0.9228 - val_loss: 0.9355 - val_acc: 0.7910\n",
            "Epoch 9/20\n",
            "7982/7982 [==============================] - 2s 231us/step - loss: 0.3033 - acc: 0.9310 - val_loss: 0.8911 - val_acc: 0.8090\n",
            "Epoch 10/20\n",
            "7982/7982 [==============================] - 2s 232us/step - loss: 0.2538 - acc: 0.9416 - val_loss: 0.9070 - val_acc: 0.8090\n",
            "Epoch 11/20\n",
            "7982/7982 [==============================] - 2s 231us/step - loss: 0.2187 - acc: 0.9471 - val_loss: 0.9186 - val_acc: 0.8120\n",
            "Epoch 12/20\n",
            "7982/7982 [==============================] - 2s 230us/step - loss: 0.1874 - acc: 0.9513 - val_loss: 0.9065 - val_acc: 0.8120\n",
            "Epoch 13/20\n",
            "7982/7982 [==============================] - 2s 230us/step - loss: 0.1703 - acc: 0.9524 - val_loss: 0.9349 - val_acc: 0.8090\n",
            "Epoch 14/20\n",
            "7982/7982 [==============================] - 2s 230us/step - loss: 0.1537 - acc: 0.9553 - val_loss: 0.9695 - val_acc: 0.8090\n",
            "Epoch 15/20\n",
            "7982/7982 [==============================] - 2s 230us/step - loss: 0.1392 - acc: 0.9560 - val_loss: 0.9696 - val_acc: 0.8150\n",
            "Epoch 16/20\n",
            "7982/7982 [==============================] - 2s 231us/step - loss: 0.1316 - acc: 0.9558 - val_loss: 1.0212 - val_acc: 0.8060\n",
            "Epoch 17/20\n",
            "7982/7982 [==============================] - 2s 229us/step - loss: 0.1216 - acc: 0.9578 - val_loss: 1.0274 - val_acc: 0.7950\n",
            "Epoch 18/20\n",
            "7982/7982 [==============================] - 2s 230us/step - loss: 0.1200 - acc: 0.9577 - val_loss: 1.0432 - val_acc: 0.8080\n",
            "Epoch 19/20\n",
            "7982/7982 [==============================] - 2s 230us/step - loss: 0.1137 - acc: 0.9594 - val_loss: 1.1001 - val_acc: 0.7970\n",
            "Epoch 20/20\n",
            "7982/7982 [==============================] - 2s 232us/step - loss: 0.1114 - acc: 0.9593 - val_loss: 1.0683 - val_acc: 0.8010\n"
          ],
          "name": "stdout"
        }
      ]
    },
    {
      "cell_type": "code",
      "metadata": {
        "id": "P49E8LSjRl1x",
        "colab_type": "code",
        "outputId": "9add2868-365d-4da5-f365-b4bcbe9cdcf5",
        "colab": {
          "base_uri": "https://localhost:8080/",
          "height": 295
        }
      },
      "source": [
        "import matplotlib.pyplot as plt\n",
        "loss = history.history['loss'] \n",
        "val_loss = history.history['val_loss']\n",
        "epochs = range(1, len(loss) + 1)\n",
        "plt.plot(epochs, loss, 'bo', label='Training loss') \n",
        "plt.plot(epochs, val_loss, 'b', label='Validation loss') \n",
        "plt.title('Training and validation loss')\n",
        "plt.xlabel('Epochs')\n",
        "plt.ylabel('Loss')\n",
        "plt.legend()\n",
        "plt.show()\n"
      ],
      "execution_count": 0,
      "outputs": [
        {
          "output_type": "display_data",
          "data": {
            "image/png": "[encoded data removed]",
            "text/plain": [
              "<Figure size 432x288 with 1 Axes>"
            ]
          },
          "metadata": {
            "tags": []
          }
        }
      ]
    },
    {
      "cell_type": "code",
      "metadata": {
        "id": "g10gQcySRy60",
        "colab_type": "code",
        "outputId": "a7cc62ef-cfe7-47f7-9ac9-ba8d1f2a81d5",
        "colab": {
          "base_uri": "https://localhost:8080/",
          "height": 295
        }
      },
      "source": [
        "plt.clf()\n",
        "acc = history.history['acc']\n",
        "val_acc = history.history['val_acc']\n",
        "plt.plot(epochs, acc, 'bo', label='Training acc')\n",
        "plt.plot(epochs, val_acc, 'b', label='Validation acc')\n",
        "plt.title('Training and validation accuracy')\n",
        "plt.xlabel('Epochs')\n",
        "plt.ylabel('Loss')\n",
        "plt.legend()\n",
        "plt.show()\n"
      ],
      "execution_count": 0,
      "outputs": [
        {
          "output_type": "display_data",
          "data": {
            "image/png": "[encoded data removed]",
            "text/plain": [
              "<Figure size 432x288 with 1 Axes>"
            ]
          },
          "metadata": {
            "tags": []
          }
        }
      ]
    },
    {
      "cell_type": "code",
      "metadata": {
        "id": "7TjDF3IzSG4c",
        "colab_type": "code",
        "outputId": "02145238-2b97-486c-fd60-b3bd1a9c05e1",
        "colab": {
          "base_uri": "https://localhost:8080/",
          "height": 353
        }
      },
      "source": [
        "model.fit(partial_x_train, partial_y_train, epochs=9, batch_size=512, validation_data=(x_val, y_val)) \n",
        "results = model.evaluate(x_test, one_hot_test_labels)\n"
      ],
      "execution_count": 0,
      "outputs": [
        {
          "output_type": "stream",
          "text": [
            "Train on 7982 samples, validate on 1000 samples\n",
            "Epoch 1/9\n",
            "7982/7982 [==============================] - 2s 227us/step - loss: 0.1056 - acc: 0.9570 - val_loss: 1.1096 - val_acc: 0.7980\n",
            "Epoch 2/9\n",
            "7982/7982 [==============================] - 2s 228us/step - loss: 0.1021 - acc: 0.9575 - val_loss: 1.1138 - val_acc: 0.8030\n",
            "Epoch 3/9\n",
            "7982/7982 [==============================] - 2s 230us/step - loss: 0.1029 - acc: 0.9590 - val_loss: 1.1007 - val_acc: 0.7950\n",
            "Epoch 4/9\n",
            "7982/7982 [==============================] - 2s 232us/step - loss: 0.1032 - acc: 0.9579 - val_loss: 1.1212 - val_acc: 0.7980\n",
            "Epoch 5/9\n",
            "7982/7982 [==============================] - 2s 230us/step - loss: 0.0969 - acc: 0.9589 - val_loss: 1.1486 - val_acc: 0.8020\n",
            "Epoch 6/9\n",
            "7982/7982 [==============================] - 2s 230us/step - loss: 0.0989 - acc: 0.9564 - val_loss: 1.2240 - val_acc: 0.7870\n",
            "Epoch 7/9\n",
            "7982/7982 [==============================] - 2s 230us/step - loss: 0.0957 - acc: 0.9570 - val_loss: 1.1761 - val_acc: 0.7980\n",
            "Epoch 8/9\n",
            "7982/7982 [==============================] - 2s 232us/step - loss: 0.0921 - acc: 0.9587 - val_loss: 1.2431 - val_acc: 0.7820\n",
            "Epoch 9/9\n",
            "7982/7982 [==============================] - 2s 233us/step - loss: 0.0946 - acc: 0.9583 - val_loss: 1.1767 - val_acc: 0.7930\n",
            "2246/2246 [==============================] - 0s 178us/step\n"
          ],
          "name": "stdout"
        }
      ]
    },
    {
      "cell_type": "code",
      "metadata": {
        "id": "c1guncyuSPK_",
        "colab_type": "code",
        "outputId": "cc09c8bc-422a-47e0-8d34-55fd1195cc54",
        "colab": {
          "base_uri": "https://localhost:8080/",
          "height": 34
        }
      },
      "source": [
        "results"
      ],
      "execution_count": 0,
      "outputs": [
        {
          "output_type": "execute_result",
          "data": {
            "text/plain": [
              "[1.3465260650468318, 0.780498664345151]"
            ]
          },
          "metadata": {
            "tags": []
          },
          "execution_count": 90
        }
      ]
    },
    {
      "cell_type": "code",
      "metadata": {
        "id": "lVFFqtS3TQ_9",
        "colab_type": "code",
        "outputId": "204f66c8-8531-40a7-b614-a785d85135c5",
        "colab": {
          "base_uri": "https://localhost:8080/",
          "height": 50
        }
      },
      "source": [
        "from keras.datasets import boston_housing\n",
        "(train_data, train_targets), (test_data, test_targets) = boston_housing.load_data()\n"
      ],
      "execution_count": 0,
      "outputs": [
        {
          "output_type": "stream",
          "text": [
            "Downloading data from https://s3.amazonaws.com/keras-datasets/boston_housing.npz\n",
            "57344/57026 [==============================] - 0s 0us/step\n"
          ],
          "name": "stdout"
        }
      ]
    },
    {
      "cell_type": "code",
      "metadata": {
        "id": "btzF3_IHTtbO",
        "colab_type": "code",
        "colab": {}
      },
      "source": [
        "mean = train_data.mean(axis=0)\n",
        "train_data -= mean\n",
        "std = train_data.std(axis=0)\n",
        "train_data /= std\n",
        "test_data -= mean \n",
        "test_data /= std"
      ],
      "execution_count": 0,
      "outputs": []
    },
    {
      "cell_type": "code",
      "metadata": {
        "id": "1hwaykUnUCi4",
        "colab_type": "code",
        "colab": {}
      },
      "source": [
        "from keras import models\n",
        "from keras import layers\n",
        "def build_model(): \n",
        "  model = models.Sequential()\n",
        "  model.add(layers.Dense(64, activation='relu', input_shape=(train_data.shape[1],))) \n",
        "  model.add(layers.Dense(64, activation='relu')) \n",
        "  model.add(layers.Dense(1)) \n",
        "  model.compile(optimizer='rmsprop', loss='mse', metrics=['mae']) \n",
        "  return model\n"
      ],
      "execution_count": 0,
      "outputs": []
    },
    {
      "cell_type": "code",
      "metadata": {
        "id": "pT-kZiYxUh0N",
        "colab_type": "code",
        "colab": {}
      },
      "source": [
        "k=4 \n",
        "num_val_samples = len(train_data) // k\n",
        "num_epochs = 100\n",
        "all_scores = []\n"
      ],
      "execution_count": 0,
      "outputs": []
    },
    {
      "cell_type": "code",
      "metadata": {
        "id": "GonyruuIVNFS",
        "colab_type": "code",
        "outputId": "c79dd65a-0d52-4d3b-de54-adadc489520e",
        "colab": {
          "base_uri": "https://localhost:8080/",
          "height": 84
        }
      },
      "source": [
        "for i in range(k):\n",
        "  print('processing fold #', i)\n",
        "  val_data = train_data[i * num_val_samples: (i + 1) * num_val_samples]\n",
        "  val_targets = train_targets[i * num_val_samples: (i + 1) * num_val_samples]\n",
        "  partial_train_data = np.concatenate( [train_data[:i * num_val_samples], train_data[(i + 1) * num_val_samples:]], axis=0)\n",
        "  partial_train_targets = np.concatenate( [train_targets[:i * num_val_samples], train_targets[(i + 1) * num_val_samples:]], axis=0)\n",
        "  model = build_model()\n",
        "  model.fit(partial_train_data, partial_train_targets, epochs=num_epochs, batch_size=1, verbose=0)\n",
        "  val_mse, val_mae = model.evaluate(val_data, val_targets, verbose=0) \n",
        "  all_scores.append(val_mae)\n"
      ],
      "execution_count": 0,
      "outputs": [
        {
          "output_type": "stream",
          "text": [
            "processing fold # 0\n",
            "processing fold # 1\n",
            "processing fold # 2\n",
            "processing fold # 3\n"
          ],
          "name": "stdout"
        }
      ]
    },
    {
      "cell_type": "code",
      "metadata": {
        "id": "FHVkxyKsVpej",
        "colab_type": "code",
        "outputId": "4b784e9c-c904-45a1-bdd8-a7f53cc16217",
        "colab": {
          "base_uri": "https://localhost:8080/",
          "height": 34
        }
      },
      "source": [
        " all_scores"
      ],
      "execution_count": 0,
      "outputs": [
        {
          "output_type": "execute_result",
          "data": {
            "text/plain": [
              "[2.0787384651675085, 2.199129562566776, 2.858053103531941, 2.3767240549078084]"
            ]
          },
          "metadata": {
            "tags": []
          },
          "execution_count": 98
        }
      ]
    },
    {
      "cell_type": "code",
      "metadata": {
        "id": "N1_kboJ6hHeC",
        "colab_type": "code",
        "colab": {}
      },
      "source": [
        "from keras import layers\n",
        "from keras import models\n",
        "model = models.Sequential()\n",
        "model.add(layers.Conv2D(32, (3, 3), activation='relu', input_shape=(28, 28, 1)))\n",
        "model.add(layers.MaxPooling2D((2, 2)))\n",
        "model.add(layers.Conv2D(64, (3, 3), activation='relu')) \n",
        "model.add(layers.MaxPooling2D((2, 2)))\n",
        "model.add(layers.Conv2D(64, (3, 3), activation='relu'))\n",
        "model.add(layers.Flatten())\n",
        "model.add(layers.Dense(64, activation='relu'))\n",
        "model.add(layers.Dense(10, activation='softmax'))\n"
      ],
      "execution_count": 0,
      "outputs": []
    },
    {
      "cell_type": "code",
      "metadata": {
        "id": "sduzLyUJhPWN",
        "colab_type": "code",
        "outputId": "25edb7aa-c5c1-45e3-b97c-be4891609ee1",
        "colab": {
          "base_uri": "https://localhost:8080/",
          "height": 403
        }
      },
      "source": [
        " model.summary()"
      ],
      "execution_count": 0,
      "outputs": [
        {
          "output_type": "stream",
          "text": [
            "_________________________________________________________________\n",
            "Layer (type)                 Output Shape              Param #   \n",
            "=================================================================\n",
            "conv2d_4 (Conv2D)            (None, 26, 26, 32)        320       \n",
            "_________________________________________________________________\n",
            "max_pooling2d_3 (MaxPooling2 (None, 13, 13, 32)        0         \n",
            "_________________________________________________________________\n",
            "conv2d_5 (Conv2D)            (None, 11, 11, 64)        18496     \n",
            "_________________________________________________________________\n",
            "max_pooling2d_4 (MaxPooling2 (None, 5, 5, 64)          0         \n",
            "_________________________________________________________________\n",
            "conv2d_6 (Conv2D)            (None, 3, 3, 64)          36928     \n",
            "_________________________________________________________________\n",
            "flatten_1 (Flatten)          (None, 576)               0         \n",
            "_________________________________________________________________\n",
            "dense_34 (Dense)             (None, 64)                36928     \n",
            "_________________________________________________________________\n",
            "dense_35 (Dense)             (None, 10)                650       \n",
            "=================================================================\n",
            "Total params: 93,322\n",
            "Trainable params: 93,322\n",
            "Non-trainable params: 0\n",
            "_________________________________________________________________\n"
          ],
          "name": "stdout"
        }
      ]
    },
    {
      "cell_type": "code",
      "metadata": {
        "id": "yk_pc5kOiORD",
        "colab_type": "code",
        "colab": {}
      },
      "source": [
        "old = np.load\n",
        "np.load = lambda *a,**k: old(*a,**k,allow_pickle=True)\n",
        "\n",
        "\n",
        "from keras.datasets import mnist\n",
        "from keras.utils import to_categorical\n",
        "(train_images, train_labels), (test_images, test_labels) = mnist.load_data()\n",
        "\n",
        "np.load = old\n",
        "del(old)\n",
        "\n",
        "train_images = train_images.reshape((60000, 28, 28, 1)) \n",
        "train_images = train_images.astype('float32') / 255\n",
        "test_images = test_images.reshape((10000, 28, 28, 1)) \n",
        "test_images = test_images.astype('float32') / 255\n",
        "train_labels = to_categorical(train_labels)\n",
        "test_labels = to_categorical(test_labels)\n",
        "\n"
      ],
      "execution_count": 0,
      "outputs": []
    },
    {
      "cell_type": "code",
      "metadata": {
        "id": "B-4exjCXim0R",
        "colab_type": "code",
        "outputId": "c8322ac6-0f60-4e00-fd75-afc1db1a0d2d",
        "colab": {
          "base_uri": "https://localhost:8080/",
          "height": 202
        }
      },
      "source": [
        "model.compile(optimizer='rmsprop', loss='categorical_crossentropy', metrics=['accuracy'])\n",
        "model.fit(train_images, train_labels, epochs=5, batch_size=64)\n"
      ],
      "execution_count": 0,
      "outputs": [
        {
          "output_type": "stream",
          "text": [
            "Epoch 1/5\n",
            "60000/60000 [==============================] - 64s 1ms/step - loss: 0.1723 - acc: 0.9457\n",
            "Epoch 2/5\n",
            "60000/60000 [==============================] - 63s 1ms/step - loss: 0.0472 - acc: 0.9856\n",
            "Epoch 3/5\n",
            "60000/60000 [==============================] - 63s 1ms/step - loss: 0.0327 - acc: 0.9896\n",
            "Epoch 4/5\n",
            "60000/60000 [==============================] - 62s 1ms/step - loss: 0.0254 - acc: 0.9923\n",
            "Epoch 5/5\n",
            "60000/60000 [==============================] - 62s 1ms/step - loss: 0.0200 - acc: 0.9938\n"
          ],
          "name": "stdout"
        },
        {
          "output_type": "execute_result",
          "data": {
            "text/plain": [
              "<keras.callbacks.History at 0x7fcee1d2f588>"
            ]
          },
          "metadata": {
            "tags": []
          },
          "execution_count": 109
        }
      ]
    },
    {
      "cell_type": "code",
      "metadata": {
        "id": "wtnslOhii97P",
        "colab_type": "code",
        "outputId": "cebcedf6-f9a9-4828-932c-6e49cf108622",
        "colab": {
          "base_uri": "https://localhost:8080/",
          "height": 50
        }
      },
      "source": [
        "test_loss, test_acc = model.evaluate(test_images, test_labels) \n",
        "test_acc\n"
      ],
      "execution_count": 0,
      "outputs": [
        {
          "output_type": "stream",
          "text": [
            "10000/10000 [==============================] - 4s 372us/step\n"
          ],
          "name": "stdout"
        },
        {
          "output_type": "execute_result",
          "data": {
            "text/plain": [
              "0.9896"
            ]
          },
          "metadata": {
            "tags": []
          },
          "execution_count": 110
        }
      ]
    },
    {
      "cell_type": "code",
      "metadata": {
        "id": "kKFbANA4f-Gh",
        "colab_type": "code",
        "colab": {}
      },
      "source": [
        "import numpy as np\n",
        "old = np.load\n",
        "np.load = lambda *a,**k: old(*a,**k,allow_pickle=True)\n",
        "\n",
        "from keras.datasets import imdb\n",
        "(input_train, y_train), (input_test, y_test) = imdb.load_data(num_words=10000)\n",
        "\n",
        "np.load = old\n",
        "del(old)\n"
      ],
      "execution_count": 0,
      "outputs": []
    },
    {
      "cell_type": "code",
      "metadata": {
        "id": "SL85LKV9fqvh",
        "colab_type": "code",
        "colab": {}
      },
      "source": [
        "from keras.preprocessing import sequence\n",
        "max_features = 10000 \n",
        "maxlen = 500\n",
        "batch_size = 32\n",
        "\n",
        "input_train = sequence.pad_sequences(input_train, maxlen=maxlen)\n",
        "input_test = sequence.pad_sequences(input_test, maxlen=maxlen) "
      ],
      "execution_count": 0,
      "outputs": []
    },
    {
      "cell_type": "code",
      "metadata": {
        "id": "MfWy_JVhgYya",
        "colab_type": "code",
        "colab": {
          "base_uri": "https://localhost:8080/",
          "height": 490
        },
        "outputId": "8a7407fc-8bf3-4892-f474-18349796fe19"
      },
      "source": [
        "from keras.layers import Dense\n",
        "from keras.models import Sequential \n",
        "from keras.layers import Embedding, SimpleRNN\n",
        "model = Sequential() \n",
        "model.add(Embedding(max_features, 32))\n",
        "model.add(SimpleRNN(32))\n",
        "model.add(Dense(1, activation='sigmoid'))\n",
        "\n",
        "model.compile(optimizer='rmsprop', loss='binary_crossentropy', metrics=['acc']) \n",
        "history = model.fit(input_train, y_train, epochs=10, batch_size=128, validation_split=0.2) "
      ],
      "execution_count": 10,
      "outputs": [
        {
          "output_type": "stream",
          "text": [
            "WARNING:tensorflow:From /usr/local/lib/python3.6/dist-packages/tensorflow/python/framework/op_def_library.py:263: colocate_with (from tensorflow.python.framework.ops) is deprecated and will be removed in a future version.\n",
            "Instructions for updating:\n",
            "Colocations handled automatically by placer.\n",
            "WARNING:tensorflow:From /usr/local/lib/python3.6/dist-packages/tensorflow/python/ops/math_ops.py:3066: to_int32 (from tensorflow.python.ops.math_ops) is deprecated and will be removed in a future version.\n",
            "Instructions for updating:\n",
            "Use tf.cast instead.\n",
            "Train on 20000 samples, validate on 5000 samples\n",
            "Epoch 1/10\n",
            "20000/20000 [==============================] - 19s 958us/step - loss: 0.6398 - acc: 0.6154 - val_loss: 0.4606 - val_acc: 0.8042\n",
            "Epoch 2/10\n",
            "20000/20000 [==============================] - 18s 919us/step - loss: 0.4067 - acc: 0.8278 - val_loss: 0.4437 - val_acc: 0.8138\n",
            "Epoch 3/10\n",
            "20000/20000 [==============================] - 18s 913us/step - loss: 0.2917 - acc: 0.8851 - val_loss: 0.3402 - val_acc: 0.8638\n",
            "Epoch 4/10\n",
            "20000/20000 [==============================] - 18s 914us/step - loss: 0.2232 - acc: 0.9140 - val_loss: 0.3587 - val_acc: 0.8484\n",
            "Epoch 5/10\n",
            "20000/20000 [==============================] - 18s 918us/step - loss: 0.1646 - acc: 0.9397 - val_loss: 0.4436 - val_acc: 0.8540\n",
            "Epoch 6/10\n",
            "20000/20000 [==============================] - 18s 912us/step - loss: 0.1447 - acc: 0.9465 - val_loss: 0.4069 - val_acc: 0.8454\n",
            "Epoch 7/10\n",
            "20000/20000 [==============================] - 18s 915us/step - loss: 0.0965 - acc: 0.9665 - val_loss: 0.5133 - val_acc: 0.8024\n",
            "Epoch 8/10\n",
            "20000/20000 [==============================] - 19s 928us/step - loss: 0.0572 - acc: 0.9820 - val_loss: 1.3280 - val_acc: 0.6968\n",
            "Epoch 9/10\n",
            "20000/20000 [==============================] - 18s 915us/step - loss: 0.0577 - acc: 0.9812 - val_loss: 0.7130 - val_acc: 0.7686\n",
            "Epoch 10/10\n",
            "20000/20000 [==============================] - 18s 910us/step - loss: 0.0250 - acc: 0.9929 - val_loss: 0.6538 - val_acc: 0.8150\n"
          ],
          "name": "stdout"
        }
      ]
    },
    {
      "cell_type": "code",
      "metadata": {
        "id": "-_B96AEmg564",
        "colab_type": "code",
        "colab": {
          "base_uri": "https://localhost:8080/",
          "height": 286
        },
        "outputId": "7f1f6d01-30f6-40fa-dcdc-070b5b126fc9"
      },
      "source": [
        "import matplotlib.pyplot as plt\n",
        "acc = history.history['acc'] \n",
        "val_acc = history.history['val_acc']\n",
        "loss = history.history['loss']\n",
        "val_loss = history.history['val_loss']\n",
        "epochs = range(1, len(acc) + 1)\n",
        "plt.plot(epochs, acc, 'bo', label='Training acc') \n",
        "plt.plot(epochs, val_acc, 'b', label='Validation acc')\n"
      ],
      "execution_count": 11,
      "outputs": [
        {
          "output_type": "execute_result",
          "data": {
            "text/plain": [
              "[<matplotlib.lines.Line2D at 0x7fb2ed9c4630>]"
            ]
          },
          "metadata": {
            "tags": []
          },
          "execution_count": 11
        },
        {
          "output_type": "display_data",
          "data": {
            "image/png": "[encoded data removed]",
            "text/plain": [
              "<Figure size 432x288 with 1 Axes>"
            ]
          },
          "metadata": {
            "tags": []
          }
        }
      ]
    },
    {
      "cell_type": "code",
      "metadata": {
        "id": "i_BDeNfahJAP",
        "colab_type": "code",
        "colab": {
          "base_uri": "https://localhost:8080/",
          "height": 562
        },
        "outputId": "56a9b1a7-f9a9-4b8e-bf51-b2d66d9613f0"
      },
      "source": [
        "plt.title('Training and validation accuracy') \n",
        "plt.legend()\n",
        "plt.figure()\n",
        "plt.plot(epochs, loss, 'bo', label='Training loss')\n",
        "plt.plot(epochs, val_loss, 'b', label='Validation loss')\n",
        "plt.title('Training and validation loss')\n",
        "plt.legend()\n",
        "plt.show()"
      ],
      "execution_count": 13,
      "outputs": [
        {
          "output_type": "stream",
          "text": [
            "No handles with labels found to put in legend.\n"
          ],
          "name": "stderr"
        },
        {
          "output_type": "display_data",
          "data": {
            "image/png": "[encoded data removed]",
            "text/plain": [
              "<Figure size 432x288 with 1 Axes>"
            ]
          },
          "metadata": {
            "tags": []
          }
        },
        {
          "output_type": "display_data",
          "data": {
            "image/png": "[encoded data removed]",
            "text/plain": [
              "<Figure size 432x288 with 1 Axes>"
            ]
          },
          "metadata": {
            "tags": []
          }
        }
      ]
    }
  ]
}